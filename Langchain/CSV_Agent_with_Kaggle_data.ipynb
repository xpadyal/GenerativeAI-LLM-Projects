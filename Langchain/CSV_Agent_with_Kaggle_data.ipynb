{
  "cells": [
    {
      "cell_type": "code",
      "execution_count": 1,
      "metadata": {
        "colab": {
          "base_uri": "https://localhost:8080/"
        },
        "id": "o-O9ALAf9DA0",
        "outputId": "6cc5e4db-1680-47d9-dc93-0bbfbfbf5a94"
      },
      "outputs": [],
      "source": [
        "!pip -q install langchain openai"
      ]
    },
    {
      "cell_type": "code",
      "execution_count": 2,
      "metadata": {
        "id": "EB1zQJ9Y9FEh"
      },
      "outputs": [],
      "source": [
        "import os\n",
        "import pandas as pd"
      ]
    },
    {
      "cell_type": "code",
      "execution_count": 3,
      "metadata": {},
      "outputs": [],
      "source": [
        "os.environ[\"OPENAI_API_KEY\"] = \"Your OpenAI Token\""
      ]
    },
    {
      "attachments": {},
      "cell_type": "markdown",
      "metadata": {},
      "source": [
        "Dataset Source - \n",
        "https://www.kaggle.com/datasets/unsdsn/world-happiness?select=2019.csv"
      ]
    },
    {
      "cell_type": "code",
      "execution_count": 4,
      "metadata": {
        "id": "abGRJfny9NIB"
      },
      "outputs": [
        {
          "data": {
            "text/html": [
              "<div>\n",
              "<style scoped>\n",
              "    .dataframe tbody tr th:only-of-type {\n",
              "        vertical-align: middle;\n",
              "    }\n",
              "\n",
              "    .dataframe tbody tr th {\n",
              "        vertical-align: top;\n",
              "    }\n",
              "\n",
              "    .dataframe thead th {\n",
              "        text-align: right;\n",
              "    }\n",
              "</style>\n",
              "<table border=\"1\" class=\"dataframe\">\n",
              "  <thead>\n",
              "    <tr style=\"text-align: right;\">\n",
              "      <th></th>\n",
              "      <th>Overall rank</th>\n",
              "      <th>Country or region</th>\n",
              "      <th>Score</th>\n",
              "      <th>GDP per capita</th>\n",
              "      <th>Social support</th>\n",
              "      <th>Healthy life expectancy</th>\n",
              "      <th>Freedom to make life choices</th>\n",
              "      <th>Generosity</th>\n",
              "      <th>Perceptions of corruption</th>\n",
              "    </tr>\n",
              "  </thead>\n",
              "  <tbody>\n",
              "    <tr>\n",
              "      <th>0</th>\n",
              "      <td>1</td>\n",
              "      <td>Finland</td>\n",
              "      <td>7.769</td>\n",
              "      <td>1.340</td>\n",
              "      <td>1.587</td>\n",
              "      <td>0.986</td>\n",
              "      <td>0.596</td>\n",
              "      <td>0.153</td>\n",
              "      <td>0.393</td>\n",
              "    </tr>\n",
              "    <tr>\n",
              "      <th>1</th>\n",
              "      <td>2</td>\n",
              "      <td>Denmark</td>\n",
              "      <td>7.600</td>\n",
              "      <td>1.383</td>\n",
              "      <td>1.573</td>\n",
              "      <td>0.996</td>\n",
              "      <td>0.592</td>\n",
              "      <td>0.252</td>\n",
              "      <td>0.410</td>\n",
              "    </tr>\n",
              "    <tr>\n",
              "      <th>2</th>\n",
              "      <td>3</td>\n",
              "      <td>Norway</td>\n",
              "      <td>7.554</td>\n",
              "      <td>1.488</td>\n",
              "      <td>1.582</td>\n",
              "      <td>1.028</td>\n",
              "      <td>0.603</td>\n",
              "      <td>0.271</td>\n",
              "      <td>0.341</td>\n",
              "    </tr>\n",
              "    <tr>\n",
              "      <th>3</th>\n",
              "      <td>4</td>\n",
              "      <td>Iceland</td>\n",
              "      <td>7.494</td>\n",
              "      <td>1.380</td>\n",
              "      <td>1.624</td>\n",
              "      <td>1.026</td>\n",
              "      <td>0.591</td>\n",
              "      <td>0.354</td>\n",
              "      <td>0.118</td>\n",
              "    </tr>\n",
              "    <tr>\n",
              "      <th>4</th>\n",
              "      <td>5</td>\n",
              "      <td>Netherlands</td>\n",
              "      <td>7.488</td>\n",
              "      <td>1.396</td>\n",
              "      <td>1.522</td>\n",
              "      <td>0.999</td>\n",
              "      <td>0.557</td>\n",
              "      <td>0.322</td>\n",
              "      <td>0.298</td>\n",
              "    </tr>\n",
              "  </tbody>\n",
              "</table>\n",
              "</div>"
            ],
            "text/plain": [
              "   Overall rank Country or region  Score  GDP per capita  Social support   \n",
              "0             1           Finland  7.769           1.340           1.587  \\\n",
              "1             2           Denmark  7.600           1.383           1.573   \n",
              "2             3            Norway  7.554           1.488           1.582   \n",
              "3             4           Iceland  7.494           1.380           1.624   \n",
              "4             5       Netherlands  7.488           1.396           1.522   \n",
              "\n",
              "   Healthy life expectancy  Freedom to make life choices  Generosity   \n",
              "0                    0.986                         0.596       0.153  \\\n",
              "1                    0.996                         0.592       0.252   \n",
              "2                    1.028                         0.603       0.271   \n",
              "3                    1.026                         0.591       0.354   \n",
              "4                    0.999                         0.557       0.322   \n",
              "\n",
              "   Perceptions of corruption  \n",
              "0                      0.393  \n",
              "1                      0.410  \n",
              "2                      0.341  \n",
              "3                      0.118  \n",
              "4                      0.298  "
            ]
          },
          "execution_count": 4,
          "metadata": {},
          "output_type": "execute_result"
        }
      ],
      "source": [
        "df = pd.read_csv('../input/2019.csv')\n",
        "df.head()"
      ]
    },
    {
      "cell_type": "code",
      "execution_count": 5,
      "metadata": {},
      "outputs": [
        {
          "data": {
            "text/plain": [
              "(156, 9)"
            ]
          },
          "execution_count": 5,
          "metadata": {},
          "output_type": "execute_result"
        }
      ],
      "source": [
        "df.shape"
      ]
    },
    {
      "cell_type": "code",
      "execution_count": 6,
      "metadata": {},
      "outputs": [
        {
          "data": {
            "text/plain": [
              "Index(['Overall rank', 'Country or region', 'Score', 'GDP per capita',\n",
              "       'Social support', 'Healthy life expectancy',\n",
              "       'Freedom to make life choices', 'Generosity',\n",
              "       'Perceptions of corruption'],\n",
              "      dtype='object')"
            ]
          },
          "execution_count": 6,
          "metadata": {},
          "output_type": "execute_result"
        }
      ],
      "source": [
        "df.columns"
      ]
    },
    {
      "attachments": {},
      "cell_type": "markdown",
      "metadata": {},
      "source": [
        "## Activate Langchain Agent"
      ]
    },
    {
      "cell_type": "code",
      "execution_count": 7,
      "metadata": {
        "id": "ngzC1bEu9i35"
      },
      "outputs": [],
      "source": [
        "from langchain.agents import create_csv_agent\n",
        "from langchain.llms import OpenAI"
      ]
    },
    {
      "cell_type": "code",
      "execution_count": 8,
      "metadata": {
        "id": "2jHzswK19jsO"
      },
      "outputs": [],
      "source": [
        "agent = create_csv_agent(OpenAI(temperature=0), \n",
        "                         '../input/2019.csv', \n",
        "                         verbose=True)"
      ]
    },
    {
      "attachments": {},
      "cell_type": "markdown",
      "metadata": {
        "id": "4iFp1bQqGdSw"
      },
      "source": [
        "## Launch the Agent"
      ]
    },
    {
      "cell_type": "code",
      "execution_count": 9,
      "metadata": {
        "colab": {
          "base_uri": "https://localhost:8080/"
        },
        "id": "ohDay7Yn-JH7",
        "outputId": "ad026b50-e4d8-4da4-dcb8-5c85168f287a"
      },
      "outputs": [
        {
          "data": {
            "text/plain": [
              "AgentExecutor(memory=None, callback_manager=<langchain.callbacks.shared.SharedCallbackManager object at 0x00000291B04EFC40>, verbose=True, agent=ZeroShotAgent(llm_chain=LLMChain(memory=None, callback_manager=<langchain.callbacks.shared.SharedCallbackManager object at 0x00000291B04EFC40>, verbose=False, prompt=PromptTemplate(input_variables=['agent_scratchpad', 'input'], output_parser=None, partial_variables={'df': '   Overall rank Country or region  Score  GDP per capita  Social support   \\n0             1           Finland  7.769           1.340           1.587  \\\\\\n1             2           Denmark  7.600           1.383           1.573   \\n2             3            Norway  7.554           1.488           1.582   \\n3             4           Iceland  7.494           1.380           1.624   \\n4             5       Netherlands  7.488           1.396           1.522   \\n\\n   Healthy life expectancy  Freedom to make life choices  Generosity   \\n0                    0.986                         0.596       0.153  \\\\\\n1                    0.996                         0.592       0.252   \\n2                    1.028                         0.603       0.271   \\n3                    1.026                         0.591       0.354   \\n4                    0.999                         0.557       0.322   \\n\\n   Perceptions of corruption  \\n0                      0.393  \\n1                      0.410  \\n2                      0.341  \\n3                      0.118  \\n4                      0.298  '}, template='\\nYou are working with a pandas dataframe in Python. The name of the dataframe is `df`.\\nYou should use the tools below to answer the question posed of you:\\n\\npython_repl_ast: A Python shell. Use this to execute python commands. Input should be a valid python command. When using this tool, sometimes output is abbreviated - make sure it does not look abbreviated before using it in your answer.\\n\\nUse the following format:\\n\\nQuestion: the input question you must answer\\nThought: you should always think about what to do\\nAction: the action to take, should be one of [python_repl_ast]\\nAction Input: the input to the action\\nObservation: the result of the action\\n... (this Thought/Action/Action Input/Observation can repeat N times)\\nThought: I now know the final answer\\nFinal Answer: the final answer to the original input question\\n\\n\\nThis is the result of `print(df.head())`:\\n{df}\\n\\nBegin!\\nQuestion: {input}\\n{agent_scratchpad}', template_format='f-string', validate_template=True), llm=OpenAI(cache=None, verbose=False, callback_manager=<langchain.callbacks.shared.SharedCallbackManager object at 0x00000291B04EFC40>, client=<class 'openai.api_resources.completion.Completion'>, model_name='text-davinci-003', temperature=0.0, max_tokens=256, top_p=1, frequency_penalty=0, presence_penalty=0, n=1, best_of=1, model_kwargs={}, openai_api_key=None, openai_organization=None, batch_size=20, request_timeout=None, logit_bias={}, max_retries=6, streaming=False), output_key='text'), allowed_tools=['python_repl_ast']), tools=[PythonAstREPLTool(name='python_repl_ast', description='A Python shell. Use this to execute python commands. Input should be a valid python command. When using this tool, sometimes output is abbreviated - make sure it does not look abbreviated before using it in your answer.', return_direct=False, verbose=False, callback_manager=<langchain.callbacks.shared.SharedCallbackManager object at 0x00000291B04EFC40>, globals={}, locals={'df':      Overall rank         Country or region  Score  GDP per capita   \n",
              "0               1                   Finland  7.769           1.340  \\\n",
              "1               2                   Denmark  7.600           1.383   \n",
              "2               3                    Norway  7.554           1.488   \n",
              "3               4                   Iceland  7.494           1.380   \n",
              "4               5               Netherlands  7.488           1.396   \n",
              "..            ...                       ...    ...             ...   \n",
              "151           152                    Rwanda  3.334           0.359   \n",
              "152           153                  Tanzania  3.231           0.476   \n",
              "153           154               Afghanistan  3.203           0.350   \n",
              "154           155  Central African Republic  3.083           0.026   \n",
              "155           156               South Sudan  2.853           0.306   \n",
              "\n",
              "     Social support  Healthy life expectancy  Freedom to make life choices   \n",
              "0             1.587                    0.986                         0.596  \\\n",
              "1             1.573                    0.996                         0.592   \n",
              "2             1.582                    1.028                         0.603   \n",
              "3             1.624                    1.026                         0.591   \n",
              "4             1.522                    0.999                         0.557   \n",
              "..              ...                      ...                           ...   \n",
              "151           0.711                    0.614                         0.555   \n",
              "152           0.885                    0.499                         0.417   \n",
              "153           0.517                    0.361                         0.000   \n",
              "154           0.000                    0.105                         0.225   \n",
              "155           0.575                    0.295                         0.010   \n",
              "\n",
              "     Generosity  Perceptions of corruption  \n",
              "0         0.153                      0.393  \n",
              "1         0.252                      0.410  \n",
              "2         0.271                      0.341  \n",
              "3         0.354                      0.118  \n",
              "4         0.322                      0.298  \n",
              "..          ...                        ...  \n",
              "151       0.217                      0.411  \n",
              "152       0.276                      0.147  \n",
              "153       0.158                      0.025  \n",
              "154       0.235                      0.035  \n",
              "155       0.202                      0.091  \n",
              "\n",
              "[156 rows x 9 columns]}, sanitize_input=True)], return_intermediate_steps=False, max_iterations=15, max_execution_time=None, early_stopping_method='force')"
            ]
          },
          "execution_count": 9,
          "metadata": {},
          "output_type": "execute_result"
        }
      ],
      "source": [
        "agent"
      ]
    },
    {
      "cell_type": "code",
      "execution_count": 10,
      "metadata": {
        "colab": {
          "base_uri": "https://localhost:8080/",
          "height": 122
        },
        "id": "BkIOUU3K-Kug",
        "outputId": "099d46d3-777f-4f46-c96b-8378c11b1bae"
      },
      "outputs": [
        {
          "data": {
            "text/plain": [
              "'\\nYou are working with a pandas dataframe in Python. The name of the dataframe is `df`.\\nYou should use the tools below to answer the question posed of you:\\n\\npython_repl_ast: A Python shell. Use this to execute python commands. Input should be a valid python command. When using this tool, sometimes output is abbreviated - make sure it does not look abbreviated before using it in your answer.\\n\\nUse the following format:\\n\\nQuestion: the input question you must answer\\nThought: you should always think about what to do\\nAction: the action to take, should be one of [python_repl_ast]\\nAction Input: the input to the action\\nObservation: the result of the action\\n... (this Thought/Action/Action Input/Observation can repeat N times)\\nThought: I now know the final answer\\nFinal Answer: the final answer to the original input question\\n\\n\\nThis is the result of `print(df.head())`:\\n{df}\\n\\nBegin!\\nQuestion: {input}\\n{agent_scratchpad}'"
            ]
          },
          "execution_count": 10,
          "metadata": {},
          "output_type": "execute_result"
        }
      ],
      "source": [
        "agent.agent.llm_chain.prompt.template"
      ]
    },
    {
      "attachments": {},
      "cell_type": "markdown",
      "metadata": {
        "id": "QUxYs1Zp-Yg5"
      },
      "source": [
        "## Ask Questions to the Agent\n",
        "\n",
        "( Green Text represents the thoughts of the Agent)"
      ]
    },
    {
      "cell_type": "code",
      "execution_count": 11,
      "metadata": {
        "colab": {
          "base_uri": "https://localhost:8080/",
          "height": 226
        },
        "id": "iK-VZuZm-N2r",
        "outputId": "f0ecef7d-5575-49a3-c5ec-7e23062ba456"
      },
      "outputs": [
        {
          "name": "stdout",
          "output_type": "stream",
          "text": [
            "\n",
            "\n",
            "\u001b[1m> Entering new AgentExecutor chain...\u001b[0m\n",
            "\u001b[32;1m\u001b[1;3mThought: I need to find the shape of the dataframe\n",
            "Action: python_repl_ast\n",
            "Action Input: df.shape\u001b[0m\n",
            "Observation: \u001b[36;1m\u001b[1;3m(156, 9)\u001b[0m\n",
            "Thought:\u001b[32;1m\u001b[1;3m I now know the final answer\n",
            "Final Answer: The dataframe has 156 rows and 9 columns.\u001b[0m\n",
            "\n",
            "\u001b[1m> Finished chain.\u001b[0m\n"
          ]
        },
        {
          "data": {
            "text/plain": [
              "'The dataframe has 156 rows and 9 columns.'"
            ]
          },
          "execution_count": 11,
          "metadata": {},
          "output_type": "execute_result"
        }
      ],
      "source": [
        "agent.run(\"how many rows and columns are there in the dataframe?\")"
      ]
    },
    {
      "cell_type": "code",
      "execution_count": 12,
      "metadata": {
        "colab": {
          "base_uri": "https://localhost:8080/",
          "height": 333
        },
        "id": "Xw4i5xmC-cci",
        "outputId": "f57d12e1-a8d7-4a11-a887-450ef2e8859d"
      },
      "outputs": [
        {
          "name": "stdout",
          "output_type": "stream",
          "text": [
            "\n",
            "\n",
            "\u001b[1m> Entering new AgentExecutor chain...\u001b[0m\n",
            "\u001b[32;1m\u001b[1;3mThought: I should look at the column names to get an idea of what the dataset is about.\n",
            "Action: python_repl_ast\n",
            "Action Input: df.columns\u001b[0m\n",
            "Observation: \u001b[36;1m\u001b[1;3mIndex(['Overall rank', 'Country or region', 'Score', 'GDP per capita',\n",
            "       'Social support', 'Healthy life expectancy',\n",
            "       'Freedom to make life choices', 'Generosity',\n",
            "       'Perceptions of corruption'],\n",
            "      dtype='object')\u001b[0m\n",
            "Thought:\u001b[32;1m\u001b[1;3m I can see that the dataset contains information about countries or regions, such as their overall rank, score, GDP per capita, social support, healthy life expectancy, freedom to make life choices, generosity, and perceptions of corruption.\n",
            "Final Answer: The dataset contains information about countries or regions, such as their overall rank, score, GDP per capita, social support, healthy life expectancy, freedom to make life choices, generosity, and perceptions of corruption.\u001b[0m\n",
            "\n",
            "\u001b[1m> Finished chain.\u001b[0m\n"
          ]
        },
        {
          "data": {
            "text/plain": [
              "'The dataset contains information about countries or regions, such as their overall rank, score, GDP per capita, social support, healthy life expectancy, freedom to make life choices, generosity, and perceptions of corruption.'"
            ]
          },
          "execution_count": 12,
          "metadata": {},
          "output_type": "execute_result"
        }
      ],
      "source": [
        "agent.run(\"What do you know about the dataset going by the column names?\")"
      ]
    },
    {
      "cell_type": "code",
      "execution_count": 13,
      "metadata": {
        "colab": {
          "base_uri": "https://localhost:8080/",
          "height": 226
        },
        "id": "FJHcyo9Y1x6K",
        "outputId": "7ed78600-ec5f-4cfd-b002-f41c2f9b139e"
      },
      "outputs": [
        {
          "name": "stdout",
          "output_type": "stream",
          "text": [
            "\n",
            "\n",
            "\u001b[1m> Entering new AgentExecutor chain...\u001b[0m\n",
            "\u001b[32;1m\u001b[1;3mThought: I need to calculate the correlation matrix\n",
            "Action: python_repl_ast\n",
            "Action Input: df[['Score', 'GDP per capita', 'Freedom to make life choices', 'Generosity', 'Perceptions of corruption']].corr()\u001b[0m\n",
            "Observation: \u001b[36;1m\u001b[1;3m                                 Score  GDP per capita   \n",
            "Score                         1.000000        0.793883  \\\n",
            "GDP per capita                0.793883        1.000000   \n",
            "Freedom to make life choices  0.566742        0.379079   \n",
            "Generosity                    0.075824       -0.079662   \n",
            "Perceptions of corruption     0.385613        0.298920   \n",
            "\n",
            "                              Freedom to make life choices  Generosity   \n",
            "Score                                             0.566742    0.075824  \\\n",
            "GDP per capita                                    0.379079   -0.079662   \n",
            "Freedom to make life choices                      1.000000    0.269742   \n",
            "Generosity                                        0.269742    1.000000   \n",
            "Perceptions of corruption                         0.438843    0.326538   \n",
            "\n",
            "                              Perceptions of corruption  \n",
            "Score                                          0.385613  \n",
            "GDP per capita                                 0.298920  \n",
            "Freedom to make life choices                   0.438843  \n",
            "Generosity                                     0.326538  \n",
            "Perceptions of corruption                      1.000000  \u001b[0m\n",
            "Thought:\u001b[32;1m\u001b[1;3m I now know the final answer\n",
            "Final Answer: The correlation matrix among 'Score', 'GDP per capita', 'Freedom to make life choices', 'Generosity', 'Perceptions of corruption' is:\n",
            "\n",
            "Score                         1.000000\n",
            "GDP per capita                0.793883\n",
            "Freedom to make life choices  0.566742\n",
            "Generosity                    0.075824\n",
            "Perceptions of corruption     0.385613\u001b[0m\n",
            "\n",
            "\u001b[1m> Finished chain.\u001b[0m\n"
          ]
        },
        {
          "data": {
            "text/plain": [
              "\"The correlation matrix among 'Score', 'GDP per capita', 'Freedom to make life choices', 'Generosity', 'Perceptions of corruption' is:\\n\\nScore                         1.000000\\nGDP per capita                0.793883\\nFreedom to make life choices  0.566742\\nGenerosity                    0.075824\\nPerceptions of corruption     0.385613\""
            ]
          },
          "execution_count": 13,
          "metadata": {},
          "output_type": "execute_result"
        }
      ],
      "source": [
        "agent.run(\"Can you give me the correlation matrix among 'Score', 'GDP per capita', 'Freedom to make life choices', 'Generosity', 'Perceptions of corruption'\")"
      ]
    },
    {
      "cell_type": "code",
      "execution_count": 14,
      "metadata": {
        "colab": {
          "base_uri": "https://localhost:8080/",
          "height": 748
        },
        "id": "nhzNmN1a2rbV",
        "outputId": "14ad6d37-7f14-4c77-babd-78c17cf9b770"
      },
      "outputs": [
        {
          "name": "stdout",
          "output_type": "stream",
          "text": [
            "\n",
            "\n",
            "\u001b[1m> Entering new AgentExecutor chain...\u001b[0m\n",
            "\u001b[32;1m\u001b[1;3mThought: I need to look at the data to make a conclusion\n",
            "Action: python_repl_ast\n",
            "Action Input: df.corr()\u001b[0m\n",
            "Observation: \u001b[36;1m\u001b[1;3mcould not convert string to float: 'Finland'\u001b[0m\n",
            "Thought:\u001b[32;1m\u001b[1;3m I need to remove the first column\n",
            "Action: python_repl_ast\n",
            "Action Input: df.drop(columns=['Overall rank', 'Country or region']).corr()\u001b[0m\n",
            "Observation: \u001b[36;1m\u001b[1;3m                                 Score  GDP per capita  Social support   \n",
            "Score                         1.000000        0.793883        0.777058  \\\n",
            "GDP per capita                0.793883        1.000000        0.754906   \n",
            "Social support                0.777058        0.754906        1.000000   \n",
            "Healthy life expectancy       0.779883        0.835462        0.719009   \n",
            "Freedom to make life choices  0.566742        0.379079        0.447333   \n",
            "Generosity                    0.075824       -0.079662       -0.048126   \n",
            "Perceptions of corruption     0.385613        0.298920        0.181899   \n",
            "\n",
            "                              Healthy life expectancy   \n",
            "Score                                        0.779883  \\\n",
            "GDP per capita                               0.835462   \n",
            "Social support                               0.719009   \n",
            "Healthy life expectancy                      1.000000   \n",
            "Freedom to make life choices                 0.390395   \n",
            "Generosity                                  -0.029511   \n",
            "Perceptions of corruption                    0.295283   \n",
            "\n",
            "                              Freedom to make life choices  Generosity   \n",
            "Score                                             0.566742    0.075824  \\\n",
            "GDP per capita                                    0.379079   -0.079662   \n",
            "Social support                                    0.447333   -0.048126   \n",
            "Healthy life expectancy                           0.390395   -0.029511   \n",
            "Freedom to make life choices                      1.000000    0.269742   \n",
            "Generosity                                        0.269742    1.000000   \n",
            "Perceptions of corruption                         0.438843    0.326538   \n",
            "\n",
            "                              Perceptions of corruption  \n",
            "Score                                          0.385613  \n",
            "GDP per capita                                 0.298920  \n",
            "Social support                                 0.181899  \n",
            "Healthy life expectancy                        0.295283  \n",
            "Freedom to make life choices                   0.438843  \n",
            "Generosity                                     0.326538  \n",
            "Perceptions of corruption                      1.000000  \u001b[0m\n",
            "Thought:\u001b[32;1m\u001b[1;3m I now know the final answer\n",
            "Final Answer: The correlation matrix shows that there is a strong positive correlation between GDP per capita, Social Support, and Healthy Life Expectancy, and a moderate positive correlation between Freedom to Make Life Choices and Generosity. There is also a moderate positive correlation between Perceptions of Corruption and Generosity.\u001b[0m\n",
            "\n",
            "\u001b[1m> Finished chain.\u001b[0m\n"
          ]
        },
        {
          "data": {
            "text/plain": [
              "'The correlation matrix shows that there is a strong positive correlation between GDP per capita, Social Support, and Healthy Life Expectancy, and a moderate positive correlation between Freedom to Make Life Choices and Generosity. There is also a moderate positive correlation between Perceptions of Corruption and Generosity.'"
            ]
          },
          "execution_count": 14,
          "metadata": {},
          "output_type": "execute_result"
        }
      ],
      "source": [
        "agent.run(\"What conclusion can you make seeing the result of the above correlation matrix\")"
      ]
    },
    {
      "cell_type": "code",
      "execution_count": 17,
      "metadata": {},
      "outputs": [
        {
          "name": "stdout",
          "output_type": "stream",
          "text": [
            "\n",
            "\n",
            "\u001b[1m> Entering new AgentExecutor chain...\u001b[0m\n",
            "\u001b[32;1m\u001b[1;3mThought: I should check for missing values\n",
            "Action: python_repl_ast\n",
            "Action Input: df.isnull().sum()\u001b[0m\n",
            "Observation: \u001b[36;1m\u001b[1;3mOverall rank                    0\n",
            "Country or region               0\n",
            "Score                           0\n",
            "GDP per capita                  0\n",
            "Social support                  0\n",
            "Healthy life expectancy         0\n",
            "Freedom to make life choices    0\n",
            "Generosity                      0\n",
            "Perceptions of corruption       0\n",
            "dtype: int64\u001b[0m\n",
            "Thought:\u001b[32;1m\u001b[1;3m There are no missing values in the dataframe\n",
            "Final Answer: No, there are no missing values in the dataframe.\u001b[0m\n",
            "\n",
            "\u001b[1m> Finished chain.\u001b[0m\n"
          ]
        },
        {
          "data": {
            "text/plain": [
              "'No, there are no missing values in the dataframe.'"
            ]
          },
          "execution_count": 17,
          "metadata": {},
          "output_type": "execute_result"
        }
      ],
      "source": [
        "agent.run(\"Are There Missing Data in the dataframe?\")"
      ]
    },
    {
      "cell_type": "code",
      "execution_count": 18,
      "metadata": {},
      "outputs": [
        {
          "name": "stdout",
          "output_type": "stream",
          "text": [
            "\n",
            "\n",
            "\u001b[1m> Entering new AgentExecutor chain...\u001b[0m\n",
            "\u001b[32;1m\u001b[1;3mThought: I need to find the unique values in the 'Country or region' column\n",
            "Action: python_repl_ast\n",
            "Action Input: df['Country or region'].unique()\u001b[0m\n",
            "Observation: \u001b[36;1m\u001b[1;3m['Finland' 'Denmark' 'Norway' 'Iceland' 'Netherlands' 'Switzerland'\n",
            " 'Sweden' 'New Zealand' 'Canada' 'Austria' 'Australia' 'Costa Rica'\n",
            " 'Israel' 'Luxembourg' 'United Kingdom' 'Ireland' 'Germany' 'Belgium'\n",
            " 'United States' 'Czech Republic' 'United Arab Emirates' 'Malta' 'Mexico'\n",
            " 'France' 'Taiwan' 'Chile' 'Guatemala' 'Saudi Arabia' 'Qatar' 'Spain'\n",
            " 'Panama' 'Brazil' 'Uruguay' 'Singapore' 'El Salvador' 'Italy' 'Bahrain'\n",
            " 'Slovakia' 'Trinidad & Tobago' 'Poland' 'Uzbekistan' 'Lithuania'\n",
            " 'Colombia' 'Slovenia' 'Nicaragua' 'Kosovo' 'Argentina' 'Romania' 'Cyprus'\n",
            " 'Ecuador' 'Kuwait' 'Thailand' 'Latvia' 'South Korea' 'Estonia' 'Jamaica'\n",
            " 'Mauritius' 'Japan' 'Honduras' 'Kazakhstan' 'Bolivia' 'Hungary'\n",
            " 'Paraguay' 'Northern Cyprus' 'Peru' 'Portugal' 'Pakistan' 'Russia'\n",
            " 'Philippines' 'Serbia' 'Moldova' 'Libya' 'Montenegro' 'Tajikistan'\n",
            " 'Croatia' 'Hong Kong' 'Dominican Republic' 'Bosnia and Herzegovina'\n",
            " 'Turkey' 'Malaysia' 'Belarus' 'Greece' 'Mongolia' 'North Macedonia'\n",
            " 'Nigeria' 'Kyrgyzstan' 'Turkmenistan' 'Algeria' 'Morocco' 'Azerbaijan'\n",
            " 'Lebanon' 'Indonesia' 'China' 'Vietnam' 'Bhutan' 'Cameroon' 'Bulgaria'\n",
            " 'Ghana' 'Ivory Coast' 'Nepal' 'Jordan' 'Benin' 'Congo (Brazzaville)'\n",
            " 'Gabon' 'Laos' 'South Africa' 'Albania' 'Venezuela' 'Cambodia'\n",
            " 'Palestinian Territories' 'Senegal' 'Somalia' 'Namibia' 'Niger'\n",
            " 'Burkina Faso' 'Armenia' 'Iran' 'Guinea' 'Georgia' 'Gambia' 'Kenya'\n",
            " 'Mauritania' 'Mozambique' 'Tunisia' 'Bangladesh' 'Iraq'\n",
            " 'Congo (Kinshasa)' 'Mali' 'Sierra Leone' 'Sri Lanka' 'Myanmar' 'Chad'\n",
            " 'Ukraine' 'Ethiopia' 'Swaziland' 'Uganda' 'Egypt' 'Zambia' 'Togo' 'India'\n",
            " 'Liberia' 'Comoros' 'Madagascar' 'Lesotho' 'Burundi' 'Zimbabwe' 'Haiti'\n",
            " 'Botswana' 'Syria' 'Malawi' 'Yemen' 'Rwanda' 'Tanzania' 'Afghanistan'\n",
            " 'Central African Republic' 'South Sudan']\u001b[0m\n",
            "Thought:\u001b[32;1m\u001b[1;3m I now know the final answer\n",
            "Final Answer: The unique regions in the dataframe are Finland, Denmark, Norway, Iceland, Netherlands, Switzerland, Sweden, New Zealand, Canada, Austria, Australia, Costa Rica, Israel, Luxembourg, United Kingdom, Ireland, Germany, Belgium, United States, Czech Republic, United Arab Emirates, Malta, Mexico, France, Taiwan, Chile, Guatemala, Saudi Arabia, Qatar, Spain, Panama, Brazil, Uruguay, Singapore, El Salvador, Italy, Bahrain, Slovakia, Trinidad & Tobago, Poland, Uzbekistan, Lithuania, Colombia, Slovenia, Nicaragua, Kosovo, Argentina, Romania, Cyprus, Ecuador, Kuwait, Thailand, Latvia, South Korea, Estonia, Jamaica, Mauritius, Japan, Honduras, Kazakhstan, Bolivia, Hungary, Paraguay, Northern Cyprus, Peru, Portugal, Pakistan, Russia, Philippines, Serbia, Moldova, Libya, Montenegro, Tajikistan, Croatia, Hong Kong, Dominican Republic, Bosnia and Herzegovina, Turkey, Malaysia, Belarus, Greece, Mongolia, North Macedonia, Nigeria, Kyrgyzstan, Turkmenistan, Algeria, Morocco, Azerbaijan, Lebanon, Indonesia, China, Vietnam, Bhutan, Cameroon, Bulgaria, Ghana, Ivory Coast, Nepal, Jordan,\u001b[0m\n",
            "\n",
            "\u001b[1m> Finished chain.\u001b[0m\n"
          ]
        },
        {
          "data": {
            "text/plain": [
              "'The unique regions in the dataframe are Finland, Denmark, Norway, Iceland, Netherlands, Switzerland, Sweden, New Zealand, Canada, Austria, Australia, Costa Rica, Israel, Luxembourg, United Kingdom, Ireland, Germany, Belgium, United States, Czech Republic, United Arab Emirates, Malta, Mexico, France, Taiwan, Chile, Guatemala, Saudi Arabia, Qatar, Spain, Panama, Brazil, Uruguay, Singapore, El Salvador, Italy, Bahrain, Slovakia, Trinidad & Tobago, Poland, Uzbekistan, Lithuania, Colombia, Slovenia, Nicaragua, Kosovo, Argentina, Romania, Cyprus, Ecuador, Kuwait, Thailand, Latvia, South Korea, Estonia, Jamaica, Mauritius, Japan, Honduras, Kazakhstan, Bolivia, Hungary, Paraguay, Northern Cyprus, Peru, Portugal, Pakistan, Russia, Philippines, Serbia, Moldova, Libya, Montenegro, Tajikistan, Croatia, Hong Kong, Dominican Republic, Bosnia and Herzegovina, Turkey, Malaysia, Belarus, Greece, Mongolia, North Macedonia, Nigeria, Kyrgyzstan, Turkmenistan, Algeria, Morocco, Azerbaijan, Lebanon, Indonesia, China, Vietnam, Bhutan, Cameroon, Bulgaria, Ghana, Ivory Coast, Nepal, Jordan,'"
            ]
          },
          "execution_count": 18,
          "metadata": {},
          "output_type": "execute_result"
        }
      ],
      "source": [
        "agent.run(\"What are the unique regions in the dataframe?\")"
      ]
    },
    {
      "cell_type": "code",
      "execution_count": 19,
      "metadata": {
        "colab": {
          "base_uri": "https://localhost:8080/",
          "height": 719
        },
        "id": "Lq5-lOXv29kZ",
        "outputId": "51517c1d-b86e-47af-a044-bd73a55c322b"
      },
      "outputs": [
        {
          "name": "stdout",
          "output_type": "stream",
          "text": [
            "\n",
            "\n",
            "\u001b[1m> Entering new AgentExecutor chain...\u001b[0m\n",
            "\u001b[32;1m\u001b[1;3mThought: I need to sort the dataframe by score and then plot the top 10\n",
            "Action: python_repl_ast\n",
            "Action Input: df.sort_values(by='Score', ascending=False).head(10).plot.bar(x='Country or region', y='Score')\u001b[0m\n",
            "Observation: \u001b[36;1m\u001b[1;3mAxes(0.125,0.11;0.775x0.77)\u001b[0m\n",
            "Thought:\u001b[32;1m\u001b[1;3m I now know the final answer\n",
            "Final Answer: A barplot showing the top 10 regions by their score, with the regions along the x-axis and their score along the y axis.\u001b[0m\n",
            "\n",
            "\u001b[1m> Finished chain.\u001b[0m\n"
          ]
        },
        {
          "data": {
            "text/plain": [
              "'A barplot showing the top 10 regions by their score, with the regions along the x-axis and their score along the y axis.'"
            ]
          },
          "execution_count": 19,
          "metadata": {},
          "output_type": "execute_result"
        },
        {
          "data": {
            "image/png": "[encoded data removed]",
            "text/plain": [
              "<Figure size 640x480 with 1 Axes>"
            ]
          },
          "metadata": {},
          "output_type": "display_data"
        }
      ],
      "source": [
        "agent.run(\"Plot a barplot showing top 10 regions by their 'score'. Show the regions along the x-axis and their score along the y axis\")"
      ]
    },
    {
      "cell_type": "code",
      "execution_count": 22,
      "metadata": {},
      "outputs": [
        {
          "name": "stdout",
          "output_type": "stream",
          "text": [
            "\n",
            "\n",
            "\u001b[1m> Entering new AgentExecutor chain...\u001b[0m\n",
            "\u001b[32;1m\u001b[1;3mThought: I need to get the data for the top 10 regions by their happiness score\n",
            "Action: python_repl_ast\n",
            "Action Input: df.sort_values(by='Score', ascending=False).head(10)\u001b[0m\n",
            "Observation: \u001b[36;1m\u001b[1;3m   Overall rank Country or region  Score  GDP per capita  Social support   \n",
            "0             1           Finland  7.769           1.340           1.587  \\\n",
            "1             2           Denmark  7.600           1.383           1.573   \n",
            "2             3            Norway  7.554           1.488           1.582   \n",
            "3             4           Iceland  7.494           1.380           1.624   \n",
            "4             5       Netherlands  7.488           1.396           1.522   \n",
            "5             6       Switzerland  7.480           1.452           1.526   \n",
            "6             7            Sweden  7.343           1.387           1.487   \n",
            "7             8       New Zealand  7.307           1.303           1.557   \n",
            "8             9            Canada  7.278           1.365           1.505   \n",
            "9            10           Austria  7.246           1.376           1.475   \n",
            "\n",
            "   Healthy life expectancy  Freedom to make life choices  Generosity   \n",
            "0                    0.986                         0.596       0.153  \\\n",
            "1                    0.996                         0.592       0.252   \n",
            "2                    1.028                         0.603       0.271   \n",
            "3                    1.026                         0.591       0.354   \n",
            "4                    0.999                         0.557       0.322   \n",
            "5                    1.052                         0.572       0.263   \n",
            "6                    1.009                         0.574       0.267   \n",
            "7                    1.026                         0.585       0.330   \n",
            "8                    1.039                         0.584       0.285   \n",
            "9                    1.016                         0.532       0.244   \n",
            "\n",
            "   Perceptions of corruption  \n",
            "0                      0.393  \n",
            "1                      0.410  \n",
            "2                      0.341  \n",
            "3                      0.118  \n",
            "4                      0.298  \n",
            "5                      0.343  \n",
            "6                      0.373  \n",
            "7                      0.380  \n",
            "8                      0.308  \n",
            "9                      0.226  \u001b[0m\n",
            "Thought:\u001b[32;1m\u001b[1;3m I need to create a horizontal bar plot\n",
            "Action: python_repl_ast\n",
            "Action Input: df.sort_values(by='Score', ascending=False).head(10).plot(kind='barh', x='Country or region', y=['GDP per capita', 'Social support', 'Healthy life expectancy', 'Freedom to make life choices', 'Generosity', 'Perceptions of corruption'])\u001b[0m\n",
            "Observation: \u001b[36;1m\u001b[1;3mAxes(0.125,0.11;0.775x0.77)\u001b[0m\n",
            "Thought:\u001b[32;1m\u001b[1;3m I now know the final answer\n",
            "Final Answer: A horizontal bar plot showing the ratio of the factors affecting the Happiness Score according to the regions, including only the top 10 regions by their happiness score.\u001b[0m\n",
            "\n",
            "\u001b[1m> Finished chain.\u001b[0m\n"
          ]
        },
        {
          "data": {
            "text/plain": [
              "'A horizontal bar plot showing the ratio of the factors affecting the Happiness Score according to the regions, including only the top 10 regions by their happiness score.'"
            ]
          },
          "execution_count": 22,
          "metadata": {},
          "output_type": "execute_result"
        },
        {
          "data": {
            "image/png": "[encoded data removed]",
            "text/plain": [
              "<Figure size 640x480 with 1 Axes>"
            ]
          },
          "metadata": {},
          "output_type": "display_data"
        }
      ],
      "source": [
        "agent.run(\"Horizontal bar plot showing What is the ratio of the factors affecting the Happiness Score according to the regions, include only top 10 regions by their happyness score\")"
      ]
    }
  ],
  "metadata": {
    "colab": {
      "provenance": []
    },
    "kernelspec": {
      "display_name": "Python 3",
      "name": "python3"
    },
    "language_info": {
      "codemirror_mode": {
        "name": "ipython",
        "version": 3
      },
      "file_extension": ".py",
      "mimetype": "text/x-python",
      "name": "python",
      "nbconvert_exporter": "python",
      "pygments_lexer": "ipython3",
      "version": "3.10.9"
    }
  },
  "nbformat": 4,
  "nbformat_minor": 0
}
